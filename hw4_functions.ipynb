{
 "cells": [
  {
   "cell_type": "code",
   "execution_count": null,
   "metadata": {},
   "outputs": [],
   "source": [
    "from datetime import datetime\n",
    "from pandas.core.series import Series\n",
    "import pandas as pd\n",
    "import numpy as np\n",
    "from typing import Dict, Union\n",
    "from scipy.optimize import minimize"
   ]
  },
  {
   "cell_type": "code",
   "execution_count": null,
   "metadata": {},
   "outputs": [],
   "source": [
    "def spot_forward_factors_conversion(df: pd.DataFrame) -> pd.DataFrame:\n",
    "    \"\"\"\n",
    "    Converts spot discount factors to forward discount factors\n",
    "\n",
    "    Parameters:\n",
    "        df (pd.DataFrame): a dataframe with discount factors and time increments associated with the factors\n",
    "\n",
    "    Returns:\n",
    "        pd.DataFrame: A DataFrame with the same time increments given, but with forward discount factors added\n",
    "    \"\"\"\n",
    "    df['Forward Discount Factor'] = df['Spot Discount Factor'] / df['Spot Discount Factor'].shift(1)\n",
    "    df.iloc[0, df.columns.get_loc('Forward Discount Factor')] = df.iloc[0, df.columns.get_loc('Spot Discount Factor')]\n",
    "    return df\n",
    "    "
   ]
  }
 ],
 "metadata": {
  "language_info": {
   "name": "python"
  }
 },
 "nbformat": 4,
 "nbformat_minor": 2
}
